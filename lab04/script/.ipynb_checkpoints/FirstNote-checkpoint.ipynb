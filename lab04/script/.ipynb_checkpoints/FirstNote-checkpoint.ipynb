{
 "cells": [
  {
   "cell_type": "code",
   "execution_count": 9,
   "id": "2068c7c9",
   "metadata": {},
   "outputs": [],
   "source": [
    "import sys\n",
    "from pathlib import Path"
   ]
  },
  {
   "cell_type": "code",
   "execution_count": 10,
   "id": "fd56f8ad",
   "metadata": {},
   "outputs": [
    {
     "name": "stdout",
     "output_type": "stream",
     "text": [
      "TEST\n"
     ]
    }
   ],
   "source": [
    "print(\"TEST\")"
   ]
  },
  {
   "cell_type": "code",
   "execution_count": 11,
   "id": "ac9d0fbf",
   "metadata": {},
   "outputs": [
    {
     "data": {
      "text/plain": [
       "['E:\\\\PyPhD\\\\lab04\\\\script',\n",
       " 'C:\\\\Users\\\\dexte\\\\anaconda3\\\\envs\\\\lab02\\\\python39.zip',\n",
       " 'C:\\\\Users\\\\dexte\\\\anaconda3\\\\envs\\\\lab02\\\\DLLs',\n",
       " 'C:\\\\Users\\\\dexte\\\\anaconda3\\\\envs\\\\lab02\\\\lib',\n",
       " 'C:\\\\Users\\\\dexte\\\\anaconda3\\\\envs\\\\lab02',\n",
       " '',\n",
       " 'C:\\\\Users\\\\dexte\\\\anaconda3\\\\envs\\\\lab02\\\\lib\\\\site-packages',\n",
       " 'C:\\\\Users\\\\dexte\\\\anaconda3\\\\envs\\\\lab02\\\\lib\\\\site-packages\\\\win32',\n",
       " 'C:\\\\Users\\\\dexte\\\\anaconda3\\\\envs\\\\lab02\\\\lib\\\\site-packages\\\\win32\\\\lib',\n",
       " 'C:\\\\Users\\\\dexte\\\\anaconda3\\\\envs\\\\lab02\\\\lib\\\\site-packages\\\\Pythonwin']"
      ]
     },
     "execution_count": 11,
     "metadata": {},
     "output_type": "execute_result"
    }
   ],
   "source": [
    "sys.path"
   ]
  },
  {
   "cell_type": "markdown",
   "id": "abaffc0e",
   "metadata": {},
   "source": [
    "# Example md cell\n",
    "\n",
    "$ x = y^2 $\n",
    "\n",
    "## something else"
   ]
  },
  {
   "cell_type": "code",
   "execution_count": 3,
   "id": "e088bdda",
   "metadata": {},
   "outputs": [
    {
     "name": "stdout",
     "output_type": "stream",
     "text": [
      " Volume in drive E is data\n",
      " Volume Serial Number is F44D-E027\n",
      "\n",
      " Directory of E:\\PyPhD\\lab04\\script\n",
      "\n",
      "22.04.2022  19:35    <DIR>          .\n",
      "22.04.2022  19:35    <DIR>          ..\n",
      "22.04.2022  18:52             5˙331 .argparser.py.un~\n",
      "22.04.2022  19:19    <DIR>          .ipynb_checkpoints\n",
      "22.04.2022  18:52               553 argparser.py\n",
      "22.04.2022  18:52               552 argparser.py~\n",
      "22.04.2022  17:55               206 bmiexecutor.py\n",
      "22.04.2022  19:35             2˙386 FirstNote.ipynb\n",
      "22.04.2022  17:41               298 importing.py\n",
      "22.04.2022  16:15                64 lab04_01.py\n",
      "               7 File(s)          9˙390 bytes\n",
      "               3 Dir(s)  730˙483˙568˙640 bytes free\n"
     ]
    }
   ],
   "source": [
    "%ls"
   ]
  }
 ],
 "metadata": {
  "kernelspec": {
   "display_name": "Python [conda env:lab02] *",
   "language": "python",
   "name": "conda-env-lab02-py"
  },
  "language_info": {
   "codemirror_mode": {
    "name": "ipython",
    "version": 3
   },
   "file_extension": ".py",
   "mimetype": "text/x-python",
   "name": "python",
   "nbconvert_exporter": "python",
   "pygments_lexer": "ipython3",
   "version": "3.9.7"
  }
 },
 "nbformat": 4,
 "nbformat_minor": 5
}

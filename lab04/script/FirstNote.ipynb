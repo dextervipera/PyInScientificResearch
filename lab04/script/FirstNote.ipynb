{
 "cells": [
  {
   "cell_type": "code",
   "execution_count": 11,
   "id": "2068c7c9",
   "metadata": {},
   "outputs": [
    {
     "name": "stdout",
     "output_type": "stream",
     "text": [
      "# conda environments:\n",
      "#\n",
      "base                     C:\\Users\\dexte\\anaconda3\n",
      "PY_3.9                   C:\\Users\\dexte\\anaconda3\\envs\\PY_3.9\n",
      "PY_dataclass_sandbox     C:\\Users\\dexte\\anaconda3\\envs\\PY_dataclass_sandbox\n",
      "PY_lib                   C:\\Users\\dexte\\anaconda3\\envs\\PY_lib\n",
      "TinkerTST                C:\\Users\\dexte\\anaconda3\\envs\\TinkerTST\n",
      "checkio                  C:\\Users\\dexte\\anaconda3\\envs\\checkio\n",
      "deangler                 C:\\Users\\dexte\\anaconda3\\envs\\deangler\n",
      "lab02                 *  C:\\Users\\dexte\\anaconda3\\envs\\lab02\n",
      "lab1                     C:\\Users\\dexte\\anaconda3\\envs\\lab1\n",
      "mpl                      C:\\Users\\dexte\\anaconda3\\envs\\mpl\n",
      "threadexecutor           C:\\Users\\dexte\\anaconda3\\envs\\threadexecutor\n",
      "threadsndbx              C:\\Users\\dexte\\anaconda3\\envs\\threadsndbx\n",
      "\n"
     ]
    }
   ],
   "source": [
    "!conda info -e\n",
    "import sys\n",
    "from pathlib import Path\n",
    "from matplotlib import pyplot as plt"
   ]
  },
  {
   "cell_type": "code",
   "execution_count": 10,
   "id": "fd56f8ad",
   "metadata": {},
   "outputs": [
    {
     "name": "stdout",
     "output_type": "stream",
     "text": [
      "TEST\n"
     ]
    }
   ],
   "source": [
    "print(\"TEST\")"
   ]
  },
  {
   "cell_type": "code",
   "execution_count": 11,
   "id": "ac9d0fbf",
   "metadata": {},
   "outputs": [
    {
     "data": {
      "text/plain": [
       "['E:\\\\PyPhD\\\\lab04\\\\script',\n",
       " 'C:\\\\Users\\\\dexte\\\\anaconda3\\\\envs\\\\lab02\\\\python39.zip',\n",
       " 'C:\\\\Users\\\\dexte\\\\anaconda3\\\\envs\\\\lab02\\\\DLLs',\n",
       " 'C:\\\\Users\\\\dexte\\\\anaconda3\\\\envs\\\\lab02\\\\lib',\n",
       " 'C:\\\\Users\\\\dexte\\\\anaconda3\\\\envs\\\\lab02',\n",
       " '',\n",
       " 'C:\\\\Users\\\\dexte\\\\anaconda3\\\\envs\\\\lab02\\\\lib\\\\site-packages',\n",
       " 'C:\\\\Users\\\\dexte\\\\anaconda3\\\\envs\\\\lab02\\\\lib\\\\site-packages\\\\win32',\n",
       " 'C:\\\\Users\\\\dexte\\\\anaconda3\\\\envs\\\\lab02\\\\lib\\\\site-packages\\\\win32\\\\lib',\n",
       " 'C:\\\\Users\\\\dexte\\\\anaconda3\\\\envs\\\\lab02\\\\lib\\\\site-packages\\\\Pythonwin']"
      ]
     },
     "execution_count": 11,
     "metadata": {},
     "output_type": "execute_result"
    }
   ],
   "source": [
    "sys.path"
   ]
  },
  {
   "cell_type": "markdown",
   "id": "abaffc0e",
   "metadata": {},
   "source": [
    "# Example md cell\n",
    "\n",
    "$ x = y^2 $\n",
    "\n",
    "## something else"
   ]
  },
  {
   "cell_type": "code",
   "execution_count": 1,
   "id": "e088bdda",
   "metadata": {},
   "outputs": [
    {
     "name": "stdout",
     "output_type": "stream",
     "text": [
      " Volume in drive E is data\n",
      " Volume Serial Number is F44D-E027\n",
      "\n",
      " Directory of E:\\PyPhD\\lab04\\script\n",
      "\n",
      "22.04.2022  19:36    <DIR>          .\n",
      "22.04.2022  19:36    <DIR>          ..\n",
      "22.04.2022  18:52             5˙331 .argparser.py.un~\n",
      "22.04.2022  19:19    <DIR>          .ipynb_checkpoints\n",
      "22.04.2022  18:52               553 argparser.py\n",
      "22.04.2022  18:52               552 argparser.py~\n",
      "22.04.2022  17:55               206 bmiexecutor.py\n",
      "22.04.2022  19:36             3˙295 FirstNote.ipynb\n",
      "22.04.2022  17:41               298 importing.py\n",
      "22.04.2022  16:15                64 lab04_01.py\n",
      "               7 File(s)         10˙299 bytes\n",
      "               3 Dir(s)  730˙483˙568˙640 bytes free\n"
     ]
    }
   ],
   "source": [
    "%ls"
   ]
  },
  {
   "cell_type": "markdown",
   "id": "cba52784",
   "metadata": {},
   "source": [
    "# Wykresy"
   ]
  },
  {
   "cell_type": "code",
   "execution_count": 20,
   "id": "9b69d80a",
   "metadata": {},
   "outputs": [
    {
     "data": {
      "text/plain": [
       "[<matplotlib.lines.Line2D at 0x227992f0550>]"
      ]
     },
     "execution_count": 20,
     "metadata": {},
     "output_type": "execute_result"
    },
    {
     "data": {
      "image/png": "[encoded data removed]",
      "text/plain": [
       "<Figure size 432x288 with 1 Axes>"
      ]
     },
     "metadata": {
      "needs_background": "light"
     },
     "output_type": "display_data"
    }
   ],
   "source": [
    "x = list(range(-10,11))\n",
    "y = [a**3 for a in x]\n",
    "\n",
    "plt.plot(x,y, '-r')"
   ]
  }
 ],
 "metadata": {
  "kernelspec": {
   "display_name": "Python [conda env:lab02] *",
   "language": "python",
   "name": "conda-env-lab02-py"
  },
  "language_info": {
   "codemirror_mode": {
    "name": "ipython",
    "version": 3
   },
   "file_extension": ".py",
   "mimetype": "text/x-python",
   "name": "python",
   "nbconvert_exporter": "python",
   "pygments_lexer": "ipython3",
   "version": "3.9.7"
  },
  "latex_envs": {
   "LaTeX_envs_menu_present": true,
   "autoclose": false,
   "autocomplete": true,
   "bibliofile": "biblio.bib",
   "cite_by": "apalike",
   "current_citInitial": 1,
   "eqLabelWithNumbers": true,
   "eqNumInitial": 1,
   "hotkeys": {
    "equation": "Ctrl-E",
    "itemize": "Ctrl-I"
   },
   "labels_anchors": false,
   "latex_user_defs": false,
   "report_style_numbering": false,
   "user_envs_cfg": false
  },
  "toc": {
   "base_numbering": 1,
   "nav_menu": {},
   "number_sections": true,
   "sideBar": true,
   "skip_h1_title": false,
   "title_cell": "Table of Contents",
   "title_sidebar": "Contents",
   "toc_cell": false,
   "toc_position": {},
   "toc_section_display": true,
   "toc_window_display": false
  }
 },
 "nbformat": 4,
 "nbformat_minor": 5
}
